{
  "nbformat": 4,
  "nbformat_minor": 0,
  "metadata": {
    "colab": {
      "provenance": [],
      "authorship_tag": "ABX9TyMW76gC99s8B6k1pvpecsNy",
      "include_colab_link": true
    },
    "kernelspec": {
      "name": "python3",
      "display_name": "Python 3"
    },
    "language_info": {
      "name": "python"
    }
  },
  "cells": [
    {
      "cell_type": "markdown",
      "metadata": {
        "id": "view-in-github",
        "colab_type": "text"
      },
      "source": [
        "<a href=\"https://colab.research.google.com/github/hriichi/MovieRecc/blob/main/MovieRec.ipynb\" target=\"_parent\"><img src=\"https://colab.research.google.com/assets/colab-badge.svg\" alt=\"Open In Colab\"/></a>"
      ]
    },
    {
      "cell_type": "markdown",
      "source": [
        "Title of Project: Movie Recommendation System using Collaborative Filtering\n",
        "\n",
        "Objective:\n",
        "To build a movie recommendation system that suggests movies to users based on their preferences using collaborative filtering.\n",
        "\n",
        "Data Source:\n",
        "The MovieLens dataset (ml-100k) available in the Surprise library.\n",
        "\n",
        "Import Library:\n"
      ],
      "metadata": {
        "id": "rx2wNsEwC9an"
      }
    },
    {
      "cell_type": "code",
      "source": [
        "import pandas as pd\n",
        "from surprise import Dataset, Reader\n",
        "from surprise.model_selection import train_test_split\n",
        "from surprise import KNNBasic, accuracy"
      ],
      "metadata": {
        "id": "txZZF4kxDCzz"
      },
      "execution_count": null,
      "outputs": []
    },
    {
      "cell_type": "markdown",
      "source": [
        "\n",
        "Import Data:\n"
      ],
      "metadata": {
        "id": "TyLoijqrDGB8"
      }
    },
    {
      "cell_type": "code",
      "source": [
        "data = Dataset.load_builtin('ml-100k')"
      ],
      "metadata": {
        "id": "c1F2BOK_DLHa"
      },
      "execution_count": null,
      "outputs": []
    },
    {
      "cell_type": "markdown",
      "source": [
        "Describe Data:\n",
        "The MovieLens dataset contains user ratings for movies. It includes information such as user ID, movie ID, rating, and timestamp.\n",
        "\n",
        "Data Visualization:\n",
        "Since collaborative filtering does not require explicit feature engineering, data visualization is not necessary in this case.\n",
        "\n",
        "Data Preprocessing:\n",
        "No explicit data preprocessing is required for collaborative filtering.\n",
        "\n",
        "Define Target Variable (y) and Feature Variables (X):\n",
        "In collaborative filtering, the target variable is the rating given by the user, and there are no feature variables as collaborative filtering is based on user-item interactions.\n",
        "\n",
        "Train Test Split:\n"
      ],
      "metadata": {
        "id": "6ApW0C83DNst"
      }
    },
    {
      "cell_type": "code",
      "source": [
        "trainset, testset = train_test_split(data, test_size=0.2, random_state=42)"
      ],
      "metadata": {
        "id": "3aBx0kd-DR5I"
      },
      "execution_count": null,
      "outputs": []
    },
    {
      "cell_type": "markdown",
      "source": [
        "Modeling:\n"
      ],
      "metadata": {
        "id": "a2quYlZRDVdw"
      }
    },
    {
      "cell_type": "code",
      "source": [
        "algo = KNNBasic()\n",
        "algo.fit(trainset)"
      ],
      "metadata": {
        "id": "2SAs_45oDXpU"
      },
      "execution_count": null,
      "outputs": []
    },
    {
      "cell_type": "markdown",
      "source": [
        "Model Evaluation:"
      ],
      "metadata": {
        "id": "vZNcYl12Daoi"
      }
    },
    {
      "cell_type": "code",
      "source": [
        "predictions = algo.test(testset)\n",
        "accuracy.rmse(predictions)"
      ],
      "metadata": {
        "id": "dZoHv2hTDdyo"
      },
      "execution_count": null,
      "outputs": []
    },
    {
      "cell_type": "markdown",
      "source": [
        "Prediction:\n"
      ],
      "metadata": {
        "id": "qfAcWI_JDfmm"
      }
    },
    {
      "cell_type": "code",
      "source": [
        "def get_top_n_recommendations(predictions, n=5):\n",
        "    top_n = {}\n",
        "    for uid, iid, true_r, est, _ in predictions:\n",
        "        if uid not in top_n:\n",
        "            top_n[uid] = []\n",
        "        top_n[uid].append((iid, est))\n",
        "\n",
        "    for uid, user_ratings in top_n.items():\n",
        "        user_ratings.sort(key=lambda x: x[1], reverse=True)\n",
        "        top_n[uid] = user_ratings[:n]\n",
        "\n",
        "    return top_n\n",
        "\n",
        "top_n_recommendations = get_top_n_recommendations(predictions, n=5)"
      ],
      "metadata": {
        "id": "MSe-wEthDhrI"
      },
      "execution_count": null,
      "outputs": []
    },
    {
      "cell_type": "markdown",
      "source": [
        "Explanation:\n",
        "The movie recommendation system is built using collaborative filtering, a technique that recommends items by finding similar users or items based on historical data. It predicts user ratings for movies and recommends the top N movies with the highest predicted ratings. The system helps users discover new movies based on their preferences and behavior."
      ],
      "metadata": {
        "id": "2coOHy6yDkSw"
      }
    }
  ]
}